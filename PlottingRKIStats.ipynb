{
 "cells": [
  {
   "cell_type": "markdown",
   "metadata": {},
   "source": [
    "# Imports and reading data"
   ]
  },
  {
   "cell_type": "code",
   "execution_count": null,
   "metadata": {
    "collapsed": false
   },
   "outputs": [],
   "source": [
    "import numpy as np\n",
    "import sys\n",
    "import pandas as pd\n",
    "import os\n",
    "import matplotlib.pyplot as plt\n",
    "import datetime\n",
    "\n",
    "MortalityFilename = 'mortality/Mortality_AGBLSterbewoche.csv'\n",
    "MortalityData = pd.read_csv(MortalityFilename, delimiter = \";\",header=0)\n",
    "\n",
    "CrawlerFilename = 'mortality/DataMerged.csv'\n",
    "CrawlerData = pd.read_csv(CrawlerFilename, delimiter = \",\", names= [\"Deathdate\",\"Name\",\"Age\"])"
   ]
  },
  {
   "cell_type": "markdown",
   "metadata": {},
   "source": [
    "# Normalize Numbers by Inhabitants of State"
   ]
  },
  {
   "cell_type": "code",
   "execution_count": null,
   "metadata": {
    "collapsed": false
   },
   "outputs": [],
   "source": [
    "Berlin = MortalityData[MortalityData['Bundesland']=='Berlin']\n",
    "MortalityData.sort_values(by='Bundesland', inplace=True)\n",
    "\n",
    "States = list(set(MortalityData['Bundesland']))\n",
    "States.sort()\n",
    "Inhabitants = pd.Series([10952,12931,3575,2495,679,1810,6213,1611,7946,17890,4066,997,4082,2236,2882,2158], index=States)\n",
    "print(Inhabitants)\n"
   ]
  },
  {
   "cell_type": "code",
   "execution_count": null,
   "metadata": {
    "collapsed": false
   },
   "outputs": [],
   "source": [
    "# Normalize the data with respect to inhabitants of the state\n",
    "\n",
    "NormalMort = MortalityData.copy()\n",
    "\n",
    "for i, State in enumerate(States):\n",
    "    NormalMort.loc[NormalMort.Bundesland==State, 'Todesfälle'] = MortalityData.loc[MortalityData.Bundesland==State, 'Todesfälle'].div(Inhabitants[State])\n",
    "\n"
   ]
  },
  {
   "cell_type": "markdown",
   "metadata": {},
   "source": [
    "# Mortality rates over the year for each state"
   ]
  },
  {
   "cell_type": "code",
   "execution_count": null,
   "metadata": {
    "collapsed": false,
    "scrolled": true
   },
   "outputs": [],
   "source": [
    "#AgeGroups = set(MortalityData['Altersgruppe'])\n",
    "AgeGroups = ['0-64', '65-74', '75-84', '85+']\n",
    "\n",
    "#States = ['Hamburg', 'Bremen', 'Berlin']\n",
    "\n",
    "Colors = ['g', 'c', 'b', 'r']\n",
    "\n",
    "Fig, Axes = plt.subplots(4, 4, sharex=True, sharey=True, figsize=(15,15))\n",
    "Fig.tight_layout()\n",
    "StateIndex = 0\n",
    "Weeks = range(53)\n",
    "MeanPerWeek = np.zeros((16, 4, 53))\n",
    "SumPerWeek = np.zeros((16, 4, 53))\n",
    "MedianPerWeek = np.zeros((16, 4, 53))\n",
    "for State in States:\n",
    "    \n",
    "    for Num, AgeGroup in enumerate(AgeGroups):\n",
    "        \n",
    "        FilteredCases = NormalMort[NormalMort['Bundesland']==State]\n",
    "        FilteredCases = FilteredCases[FilteredCases['Altersgruppe']==AgeGroup] # only contains Cases for State and AgeGroup\n",
    "        for i in range(1,54):\n",
    "            MeanPerWeek[StateIndex, Num, i-1] = FilteredCases[FilteredCases['Sterbewoche']==i]['Todesfälle'].mean()\n",
    "            SumPerWeek[StateIndex, Num, i-1] = FilteredCases[FilteredCases['Sterbewoche']==i]['Todesfälle'].sum()\n",
    "            MedianPerWeek[StateIndex, Num, i-1] = FilteredCases[FilteredCases['Sterbewoche']==i]['Todesfälle'].median()\n",
    "        \n",
    "        Axes[StateIndex%4,StateIndex//4].plot(Weeks, MeanPerWeek[StateIndex, Num, :], Colors[Num])\n",
    "        #Linestyle = Colors[Num] + '--'\n",
    "        #Kurz = FilteredCases[FilteredCases.Sterbejahr==2004]['Todesfälle']\n",
    "        #Axes[StateIndex%4,StateIndex//4].plot(Weeks, Kurz, Linestyle)\n",
    "        \n",
    "        Axes[StateIndex%4, StateIndex//4].set_title(State)\n",
    "        # plot numbers: oben-links, columns runter, dann nach rechts weiter\n",
    "        \n",
    "    StateIndex += 1\n",
    "   \n",
    "plt.show()"
   ]
  },
  {
   "cell_type": "markdown",
   "metadata": {},
   "source": [
    "# Germany as a whole: How many people are dying at what age?"
   ]
  },
  {
   "cell_type": "code",
   "execution_count": null,
   "metadata": {
    "collapsed": false
   },
   "outputs": [],
   "source": [
    "# wie viele Leute sterben pro Altersgruppe?\n",
    "print(SumPerWeek.shape)\n",
    "Summiert = np.sum(np.sum(SumPerWeek, axis=0), axis=1)\n",
    "print(Summiert)\n",
    "plt.figure()\n",
    "plt.title(\"Ganz Deutschland: Summe pro Altersgruppe\")\n",
    "plt.bar([0,1,2,3],Summiert)\n",
    "plt.xticks([0.5,1.5,2.5,3.5], ['0-64', '65-74', '75-84', '85+'])\n",
    "plt.show()"
   ]
  },
  {
   "cell_type": "markdown",
   "metadata": {},
   "source": [
    "# TODO: Diese Zahlen über die Jahre beschaut: "
   ]
  },
  {
   "cell_type": "code",
   "execution_count": null,
   "metadata": {
    "collapsed": false
   },
   "outputs": [],
   "source": [
    "# und für jedes Bundesland aufgeschlüsselt:\n",
    "LandSummiert = np.sum(SumPerWeek, axis=2)\n",
    "x = np.arange(16)\n",
    "\n",
    "\n",
    "width = 0.2\n",
    "Fig = plt.figure()\n",
    "Ax = Fig.add_subplot(111)#,figsize=(10,10))\n",
    "\n",
    "plt.suptitle(\"Pro Bundesland: Vergleich der Altersgruppen\")\n",
    "\n",
    "Ax.bar(x-width, LandSummiert[:,0], width, color='g')\n",
    "Ax.bar(x, LandSummiert[:,1], width, color='c')\n",
    "Ax.bar(x+width, LandSummiert[:,2], width, color='b')\n",
    "Ax.bar(x+2*width, LandSummiert[:,3], width, color='r')\n",
    "\n",
    "Ax.set_xlim([-1,17])\n",
    "ShortNames = []\n",
    "for s in range(len(States)):\n",
    "    ShortNames.append(States[s][:3])\n",
    "\n",
    "print(States)\n",
    "plt.xticks(np.arange(min(x), max(x)+1, 1.0))\n",
    "Ax.set_xticks(x, ShortNames)\n",
    "xtickNames = Ax.set_xticklabels(ShortNames)\n",
    "plt.setp(xtickNames, rotation=45, fontsize=9)\n",
    "\n",
    "plt.show()\n"
   ]
  },
  {
   "cell_type": "markdown",
   "metadata": {},
   "source": [
    "# Zum Vergleich: Wie ist das in unseren Berlin-Daten?"
   ]
  },
  {
   "cell_type": "code",
   "execution_count": null,
   "metadata": {
    "collapsed": false
   },
   "outputs": [],
   "source": [
    "NotZero = CrawlerData[CrawlerData['Age'] > -1]\n",
    "Over64 = NotZero[NotZero['Age'] > 64]\n",
    "Over74 = Over64[Over64['Age'] > 74]\n",
    "Over84 = Over74[Over74['Age'] > 84]\n",
    "Age0 = len(NotZero) - len(Over64)\n",
    "Age1 = len(Over64) - len(Over74)\n",
    "Age2 = len(Over74) - len(Over84)\n",
    "Age3 = len(Over84)\n",
    "\n",
    "Fig, Axes = plt.subplots(2, 3, sharex=True)\n",
    "Fig.tight_layout()\n",
    "Axes[0,0].set_title(\"Todesanzeigen\")\n",
    "Axes[0,0].bar([0,1,2,3],[Age0, Age1, Age2, Age3])\n",
    "\n",
    "Axes[0,1].bar([0,1,2,3],Summiert)\n",
    "Axes[0,1].set_title(\"Ganz D\")\n",
    "\n",
    "Anteil = [Age0, Age1, Age2, Age3] / Summiert\n",
    "Axes[1,1].bar([0,1,2,3], Anteil)\n",
    "Axes[1,1].set_title(\"TA Berlin / Fälle ganz D\")\n",
    "\n",
    "BerlinSum = np.sum(SumPerWeek[8,:,:], axis=1)\n",
    "Axes[0,2].bar([0,1,2,3], BerlinSum)\n",
    "Axes[0,2].set_title(\"Offiziell Berlin\")\n",
    "\n",
    "Axes[1,2].bar([0,1,2,3], [Age0, Age1, Age2, Age3]/BerlinSum)\n",
    "Axes[1,2].set_title(\"Anteil Berlin\")\n",
    "\n",
    "\n",
    "plt.xticks([0.5,1.5,2.5,3.5], ['0-64', '65-74', '75-84', '85+'])\n",
    "plt.xticks(rotation=70)\n",
    "\n",
    "\n",
    "\n",
    "plt.show()\n",
    "\n",
    "\n"
   ]
  },
  {
   "cell_type": "code",
   "execution_count": null,
   "metadata": {
    "collapsed": true
   },
   "outputs": [],
   "source": []
  }
 ],
 "metadata": {
  "anaconda-cloud": {},
  "kernelspec": {
   "display_name": "Python [default]",
   "language": "python",
   "name": "python3"
  },
  "language_info": {
   "codemirror_mode": {
    "name": "ipython",
    "version": 3
   },
   "file_extension": ".py",
   "mimetype": "text/x-python",
   "name": "python",
   "nbconvert_exporter": "python",
   "pygments_lexer": "ipython3",
   "version": "3.5.2"
  }
 },
 "nbformat": 4,
 "nbformat_minor": 1
}
