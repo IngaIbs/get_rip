{
 "cells": [
  {
   "cell_type": "markdown",
   "metadata": {},
   "source": [
    "# Imports and reading data"
   ]
  },
  {
   "cell_type": "code",
   "execution_count": null,
   "metadata": {
    "collapsed": true
   },
   "outputs": [],
   "source": [
    "import numpy as np\n",
    "import sys\n",
    "import pandas as pd\n",
    "import os\n",
    "import matplotlib.pyplot as plt\n",
    "import datetime\n",
    "\n",
    "MortalityFilename = 'mortality/Mortality_AGBLSterbewoche.csv'\n",
    "MortalityData = pd.read_csv(MortalityFilename, delimiter = \";\",header=0)\n",
    "\n",
    "CrawlerFilename = 'mortality/DataMerged.csv'\n",
    "CrawlerData = pd.read_csv(CrawlerFilename, delimiter = \",\", names= [\"Deathdate\",\"Name\",\"Age\"])"
   ]
  },
  {
   "cell_type": "markdown",
   "metadata": {},
   "source": [
    "# Normalize Numbers by Inhabitants of State"
   ]
  },
  {
   "cell_type": "code",
   "execution_count": null,
   "metadata": {},
   "outputs": [],
   "source": [
    "Berlin = MortalityData[MortalityData['Bundesland']=='Berlin']\n",
    "MortalityData.sort_values(by='Bundesland', inplace=True)\n",
    "\n",
    "States = list(set(MortalityData['Bundesland']))\n",
    "States.sort()\n",
    "Inhabitants = pd.Series([10952,12931,3575,2495,679,1810,6213,1611,7946,17890,4066,997,4082,2236,2882,2158], index=States)\n",
    "print(Inhabitants)\n"
   ]
  },
  {
   "cell_type": "code",
   "execution_count": null,
   "metadata": {
    "collapsed": true
   },
   "outputs": [],
   "source": [
    "# Normalize the data with respect to inhabitants of the state\n",
    "\n",
    "NormalMort = MortalityData.copy()\n",
    "\n",
    "for i, State in enumerate(States):\n",
    "    NormalMort.loc[NormalMort.Bundesland==State, 'Todesfälle'] = MortalityData.loc[MortalityData.Bundesland==State, 'Todesfälle'].div(Inhabitants[State])\n",
    "\n"
   ]
  },
  {
   "cell_type": "markdown",
   "metadata": {},
   "source": [
    "# Mortality rates over the year for each state"
   ]
  },
  {
   "cell_type": "code",
   "execution_count": null,
   "metadata": {
    "scrolled": true
   },
   "outputs": [],
   "source": [
    "#AgeGroups = set(MortalityData['Altersgruppe'])\n",
    "AgeGroups = ['0-64', '65-74', '75-84', '85+']\n",
    "\n",
    "#States = ['Hamburg', 'Bremen', 'Berlin']\n",
    "\n",
    "Colors = ['g', 'c', 'b', 'r']\n",
    "\n",
    "Fig, Axes = plt.subplots(4, 4, sharex=True, figsize=(15,15))\n",
    "Fig.tight_layout()\n",
    "StateIndex = 0\n",
    "Weeks = range(53)\n",
    "MeanPerWeek = np.zeros((16, 4, 53))\n",
    "SumPerWeek = np.zeros((16, 4, 53))\n",
    "MedianPerWeek = np.zeros((16, 4, 53))\n",
    "\n",
    "MeanPerWeekN = np.zeros((16, 4, 53))\n",
    "SumPerWeekN = np.zeros((16, 4, 53))\n",
    "MedianPerWeekN = np.zeros((16, 4, 53))\n",
    "\n",
    "\n",
    "for State in States:\n",
    "    for Num, AgeGroup in enumerate(AgeGroups):\n",
    "        FilteredCases = MortalityData[MortalityData['Bundesland']==State]\n",
    "        FilteredCases = FilteredCases[FilteredCases['Altersgruppe']==AgeGroup] # only contains Cases for State and AgeGroup\n",
    "        FilteredCasesN = NormalMort[NormalMort['Bundesland']==State]\n",
    "        FilteredCasesN = FilteredCasesN[FilteredCasesN['Altersgruppe']==AgeGroup] \n",
    "        for i in range(1,54):\n",
    "            MeanPerWeek[StateIndex, Num, i-1] = FilteredCases[FilteredCases['Sterbewoche']==i]['Todesfälle'].mean()\n",
    "            SumPerWeek[StateIndex, Num, i-1] = FilteredCases[FilteredCases['Sterbewoche']==i]['Todesfälle'].sum()\n",
    "            MedianPerWeek[StateIndex, Num, i-1] = FilteredCases[FilteredCases['Sterbewoche']==i]['Todesfälle'].median()\n",
    "        \n",
    "            MeanPerWeekN[StateIndex, Num, i-1] = FilteredCasesN[FilteredCases['Sterbewoche']==i]['Todesfälle'].mean()\n",
    "            SumPerWeekN[StateIndex, Num, i-1] = FilteredCasesN[FilteredCases['Sterbewoche']==i]['Todesfälle'].sum()\n",
    "            MedianPerWeekN[StateIndex, Num, i-1] = FilteredCasesN[FilteredCases['Sterbewoche']==i]['Todesfälle'].median()\n",
    "        \n",
    "        Axes[StateIndex%4,StateIndex//4].plot(Weeks, MeanPerWeek[StateIndex, Num, :], Colors[Num])\n",
    "        Linestyle = Colors[Num] + '--'\n",
    "        Kurz = FilteredCases[FilteredCases.Sterbejahr==2004]['Todesfälle']\n",
    "        Axes[StateIndex%4,StateIndex//4].plot(Weeks, Kurz, Linestyle)\n",
    "        \n",
    "        Axes[StateIndex%4, StateIndex//4].set_title(State)\n",
    "        # plot numbers: oben-links, columns runter, dann nach rechts weiter\n",
    "        \n",
    "    StateIndex += 1\n",
    "   \n",
    "plt.show()"
   ]
  },
  {
   "cell_type": "markdown",
   "metadata": {},
   "source": [
    "# Germany as a whole: How many people are dying at what age?"
   ]
  },
  {
   "cell_type": "code",
   "execution_count": null,
   "metadata": {},
   "outputs": [],
   "source": [
    "# wie viele Leute sterben pro Altersgruppe?\n",
    "Summiert = np.sum(np.sum(SumPerWeek, axis=0), axis=1)\n",
    "plt.figure()\n",
    "plt.title(\"Ganz Deutschland: Summe pro Altersgruppe\")\n",
    "plt.bar([0,1,2,3],Summiert)\n",
    "plt.xticks([0.5,1.5,2.5,3.5], ['0-64', '65-74', '75-84', '85+'])\n",
    "plt.show()"
   ]
  },
  {
   "cell_type": "markdown",
   "metadata": {},
   "source": [
    "# Age distribution of people dying?"
   ]
  },
  {
   "cell_type": "code",
   "execution_count": null,
   "metadata": {},
   "outputs": [],
   "source": [
    "# Plot: linie für jede Altersgruppe, x-achse: jahre, y-achse: gesamt-fälle\n",
    "# (State, Age, Week)\n",
    "MortalityData.loc[MortalityData.Bundesland==State, 'Todesfälle'].div(Inhabitants[State])\n",
    "\n",
    "MeanPerYear = np.zeros((4,15))\n",
    "#MeanNormalizedYear = np.zeros((4,15))\n",
    "\n",
    "Fig, Ax = plt.subplots(1,1,figsize=(9,5))\n",
    "plt.suptitle(\"Pro Altersgruppe: Fälle über die Jahre\")\n",
    "\n",
    "for Num, AgeGroup in enumerate(AgeGroups):\n",
    "    FilteredCases = MortalityData[MortalityData['Altersgruppe']==AgeGroup]# only contains Cases for State and AgeGroup\n",
    "    FilteredNormal = NormalMort[NormalMort['Altersgruppe']==AgeGroup]\n",
    "    i = 0\n",
    "    for Jahr in range(2001, 2016):\n",
    "        MeanPerYear[Num, i] = FilteredCases[FilteredCases['Sterbejahr']==Jahr]['Todesfälle'].mean()\n",
    "        #MeanNormalizedYear[Num, i] = FilteredNormal[FilteredNormal['Sterbejahr']==Jahr]['Todesfälle'].mean()\n",
    "        i += 1\n",
    "    x = range(15)\n",
    "    Ax.plot(x, MeanPerYear[Num, :], Colors[Num])\n",
    "    #Ax[1].plot(range(15), MeanNormalizedYear[Num, :], Colors[Num])\n",
    "    plt.legend(['0-64', '65-74', '75-84', '85+'], loc=2)\n",
    "    Ax.set_xticks(x)#, ['1', '2', '3','1', '2', '3','1', '2', '3','1', '2', '3'])\n",
    "    xtickNames = Ax.set_xticklabels(np.arange(2001, 2016))\n",
    "    \n",
    "plt.show()   \n"
   ]
  },
  {
   "cell_type": "markdown",
   "metadata": {},
   "source": [
    "# For each state"
   ]
  },
  {
   "cell_type": "code",
   "execution_count": null,
   "metadata": {},
   "outputs": [],
   "source": [
    "# und für jedes Bundesland aufgeschlüsselt:\n",
    "LandSummiert = np.sum(SumPerWeekN, axis=2)\n",
    "x = np.arange(16)\n",
    "\n",
    "Fig, Ax = plt.subplots(1,1,figsize=(9,5))\n",
    "plt.suptitle(\"Pro Bundesland: Vergleich der Altersgruppen\")\n",
    "width = 0.2\n",
    "Ax.bar(x-width, LandSummiert[:,0], width, color='g')\n",
    "Ax.bar(x, LandSummiert[:,1], width, color='c')\n",
    "Ax.bar(x+width, LandSummiert[:,2], width, color='b')\n",
    "Ax.bar(x+2*width, LandSummiert[:,3], width, color='r')\n",
    "\n",
    "Ax.set_xlim([-1,17])\n",
    "ShortNames = []\n",
    "for s in range(len(States)):\n",
    "    ShortNames.append(States[s][:3])\n",
    "\n",
    "print(States[8])\n",
    "plt.xticks(np.arange(min(x), max(x)+1, 1.0))\n",
    "Ax.set_xticks(x, ShortNames)\n",
    "xtickNames = Ax.set_xticklabels(ShortNames)\n",
    "plt.setp(xtickNames, rotation=45, fontsize=9)\n",
    "plt.legend(['0-64', '65-74', '75-84', '85+'], loc=4)\n",
    "\n",
    "plt.show()\n"
   ]
  },
  {
   "cell_type": "markdown",
   "metadata": {},
   "source": [
    "# In comparison: Berlin data"
   ]
  },
  {
   "cell_type": "code",
   "execution_count": null,
   "metadata": {},
   "outputs": [],
   "source": [
    "NotZero = CrawlerData[CrawlerData['Age'] > -1]\n",
    "Over64 = NotZero[NotZero['Age'] > 64]\n",
    "Over74 = Over64[Over64['Age'] > 74]\n",
    "Over84 = Over74[Over74['Age'] > 84]\n",
    "Age0 = len(NotZero) - len(Over64)\n",
    "Age1 = len(Over64) - len(Over74)\n",
    "Age2 = len(Over74) - len(Over84)\n",
    "Age3 = len(Over84)\n",
    "\n",
    "Fig, Axes = plt.subplots(2, 3, sharex=True)\n",
    "Fig.tight_layout()\n",
    "Axes[0,0].set_title(\"Todesanzeigen\")\n",
    "Axes[0,0].bar([0,1,2,3],[Age0, Age1, Age2, Age3])\n",
    "\n",
    "Axes[0,1].bar([0,1,2,3],Summiert)\n",
    "Axes[0,1].set_title(\"Ganz D\")\n",
    "\n",
    "Anteil = [Age0, Age1, Age2, Age3] / Summiert\n",
    "Axes[1,1].bar([0,1,2,3], Anteil)\n",
    "Axes[1,1].set_title(\"TA Berlin / Fälle ganz D\")\n",
    "\n",
    "BerlinSum = np.sum(SumPerWeek[2,:,:], axis=1) # Achtung: Berlin index richtig?\n",
    "Axes[0,2].bar([0,1,2,3], BerlinSum)\n",
    "Axes[0,2].set_title(\"Offiziell Berlin\")\n",
    "\n",
    "Axes[1,2].bar([0,1,2,3], [Age0, Age1, Age2, Age3]/BerlinSum)\n",
    "Axes[1,2].set_title(\"Anteil Berlin\")\n",
    "\n",
    "\n",
    "plt.xticks([0.5,1.5,2.5,3.5], ['0-64', '65-74', '75-84', '85+'])\n",
    "plt.xticks(rotation=70)\n",
    "\n",
    "plt.show()\n",
    "\n",
    "\n"
   ]
  },
  {
   "cell_type": "markdown",
   "metadata": {},
   "source": [
    "# Crawler sample analysis\n",
    "Investigating \n",
    "- distribution of age in sample\n",
    "- connection of age and gender in sample\n",
    "- sample coverage\n",
    "- seasonal fluctuation in sample"
   ]
  },
  {
   "cell_type": "code",
   "execution_count": null,
   "metadata": {
    "collapsed": true
   },
   "outputs": [],
   "source": [
    "### Loading crawl data\n",
    "\n",
    "import numpy as np\n",
    "import pandas as pd\n",
    "import matplotlib.pyplot as plt\n",
    "import datetime as dt\n",
    "import codecs\n",
    "from dateutil.relativedelta import relativedelta\n",
    "\n",
    "# read our file\n",
    "CrawlerFile = 'mortality/Noz_death_data.csv'\n",
    "\n",
    "def ReadCSV(filename, delimiter=','):\n",
    "    data = []\n",
    "    with codecs.open(filename) as f:#, encoding='ISO-8859-1') as f:\n",
    "        for line in f:\n",
    "            data.append(line.split(','))\n",
    "    data = np.asarray(data)\n",
    "    return data[1:,:] # Achtung: schmeißt die erste Zeile weg (Header)\n",
    "\n",
    "CD = ReadCSV(CrawlerFile, delimiter=',')\n",
    "# RKI: Bundesland, Sterbejahr, Sterbewoche, Altersgruppe, Todesfälle\n",
    "\n",
    "BirthDate = []\n",
    "DeathDate = []\n",
    "Week = []\n",
    "Age = []\n",
    "DY = []\n",
    "Gender = []\n",
    "\n",
    "\n",
    "for i in range(CD.shape[0]): \n",
    "    #print(CD[i,:])\n",
    "    DDRaw = str(CD[i,2])\n",
    "    BDRaw = str(CD[i,1])\n",
    "    \n",
    "    DD = dt.date(int(DDRaw[-4:]),int(DDRaw[2:4]),int(DDRaw[:2]))\n",
    "    BD = dt.date(int(BDRaw[-4:]),int(BDRaw[2:4]),int(BDRaw[:2]))\n",
    "    BirthDate.append(BD)\n",
    "    DeathDate.append(DD)\n",
    "    Week.append(DD.isocalendar()[1])\n",
    "    Age.append((DD-BD).total_seconds()//31557600)\n",
    "    DY.append(DD.year)\n",
    "    Gender.append(int(CD[i,-1]))\n",
    "\n"
   ]
  },
  {
   "cell_type": "code",
   "execution_count": null,
   "metadata": {
    "collapsed": true
   },
   "outputs": [],
   "source": [
    "# Construct dataframe\n",
    "df = pd.DataFrame({'Age': Age,\n",
    "                   'Sterbewoche': Week,\n",
    "                   'Ort': CD[:,3]})\n",
    "\n",
    "# Spalte Altersgruppe\n",
    "df['Altersgruppe'] = 0\n",
    "df.loc[df.Age < 65, 'Altersgruppe'] = '0-64'\n",
    "df.loc[((df['Age'] >= 65 )& (df['Age'] < 75)), 'Altersgruppe'] = '65-74'\n",
    "df.loc[((df['Age']  >= 75)& (df['Age'] < 85)), 'Altersgruppe'] = '75-84'\n",
    "df.loc[df.Age > 84, 'Altersgruppe'] = '85+'\n",
    "\n",
    "# Spalte Sterbejahr\n",
    "df['Sterbejahr'] = DY\n",
    "\n",
    "# Spalte Sterbedatum (sanity check)\n",
    "df['DD'] = DD\n"
   ]
  },
  {
   "cell_type": "markdown",
   "metadata": {},
   "source": [
    "## Distribution of age"
   ]
  },
  {
   "cell_type": "code",
   "execution_count": null,
   "metadata": {},
   "outputs": [],
   "source": [
    "plt.figure()\n",
    "plt.title('Distribution of Age')\n",
    "plt.hist(df.Age, bins=np.linspace(0,100,50))\n",
    "plt.show()\n"
   ]
  },
  {
   "cell_type": "markdown",
   "metadata": {},
   "source": [
    "## Distribution of age for different genders"
   ]
  },
  {
   "cell_type": "code",
   "execution_count": null,
   "metadata": {},
   "outputs": [],
   "source": [
    "# Construct dataframe\n",
    "df_2 = pd.DataFrame({'Age': Age,\n",
    "                   'Sterbewoche': Week,\n",
    "                   'Ort': CD[:,3],\n",
    "                   'Geschlecht': Gender})\n",
    "\n",
    "df_w = df_2.loc[df_2['Geschlecht']==0]\n",
    "# Spalte Altersgruppe\n",
    "df_w['Altersgruppe'] = 0\n",
    "df_w.loc[df_w.Age < 65, 'Altersgruppe'] = '0-64'\n",
    "df_w.loc[((df_w['Age'] >= 65 )& (df['Age'] < 75)), 'Altersgruppe'] = '65-74'\n",
    "df_w.loc[((df_w['Age']  >= 75)& (df['Age'] < 85)), 'Altersgruppe'] = '75-84'\n",
    "df_w.loc[df_w.Age > 84, 'Altersgruppe'] = '85+'\n",
    "\n",
    "\n",
    "df_m = df_2.loc[df_2['Geschlecht']==1]\n",
    "# Spalte Altersgruppe\n",
    "df_m['Altersgruppe'] = 0\n",
    "df_m.loc[df_m.Age < 65, 'Altersgruppe'] = '0-64'\n",
    "df_m.loc[((df_m['Age'] >= 65 )& (df['Age'] < 75)), 'Altersgruppe'] = '65-74'\n",
    "df_m.loc[((df_m['Age']  >= 75)& (df['Age'] < 85)), 'Altersgruppe'] = '75-84'\n",
    "df_m.loc[df_m.Age > 84, 'Altersgruppe'] = '85+'\n",
    "\n",
    "# Plot\n",
    "fig = plt.figure(figsize=(15, 10), dpi=80, facecolor='w', edgecolor='k')\n",
    "\n",
    "plt.hist(df_w.Age, bins=np.linspace(0,100,50),alpha = 0.5)\n",
    "plt.title(\"Distribution of Age Bremen: Women vs. Men\", fontsize=20)\n",
    "#Ax[0].set_xticklabels( ['','0-64', '65-74', '75-84', '85+'])\n",
    "\n",
    "#NISum = np.sum(SumPerWeek[8,:,:], axis=1) # Achtung: Niedersachsen index richtig?\n",
    "plt.hist(df_m.Age, bins=np.linspace(0,100,50),alpha = 0.6)\n",
    "plt.xlabel(\"Age\", fontsize=20)\n",
    "plt.ylabel(\"Accumulated number of deaths over years\", fontsize=20)\n",
    "plt.legend(['women', 'men'], fontsize = 20)\n",
    "plt.show()\n",
    "\n",
    "fig.savefig(\"DistributionMenWoman.png\")"
   ]
  },
  {
   "cell_type": "markdown",
   "metadata": {},
   "source": [
    "## Distribution of age for the different age groups"
   ]
  },
  {
   "cell_type": "code",
   "execution_count": null,
   "metadata": {},
   "outputs": [],
   "source": [
    "# und mit den Altersgruppen:\n",
    "Age0 = len(df.loc[df.Altersgruppe == '0-64'])\n",
    "Age1 = len(df.loc[df.Altersgruppe == '65-74'])\n",
    "Age2 = len(df.loc[df.Altersgruppe == '75-84'])\n",
    "Age3 = len(df.loc[df.Altersgruppe == '85+'])\n",
    "\n",
    "Fig, Ax = plt.subplots(1,3)\n",
    "Fig.tight_layout()\n",
    "plt.title(\"Distribution of Age\")\n",
    "Ax[0].bar([0,1,2,3], [Age0, Age1, Age2, Age3])\n",
    "Ax[0].set_title(\"Traueranzeigen \\n Osnabrück\")\n",
    "#plt.xticks([0.35,1.35,2.35,3.35], ['0-64', '65-74', '75-84', '85+'])\n",
    "Ax[0].set_xticklabels( ['0-64', '65-74', '75-84', '85+'])\n",
    "\n",
    "\n",
    "NISum = np.sum(SumPerWeek[8,:,:], axis=1) # Achtung: Niedersachsen index richtig?\n",
    "Ax[1].bar([0,1,2,3], NISum)\n",
    "Ax[1].set_title(\"Offiziell \\n Niedersachsen\")\n",
    "Ax[1].set_xticklabels( ['0-64', '65-74', '75-84', '85+'])\n",
    "\n",
    "Ax[2].bar([0,1,2,3], [Age0, Age1, Age2, Age3]/NISum)\n",
    "Ax[2].set_title(\"Anteil \\n Niedersachsen\")\n",
    "Ax[2].set_xticklabels([['0-64', '65-74', '75-84', '85+']])\n",
    "\n",
    "plt.show()"
   ]
  },
  {
   "cell_type": "markdown",
   "metadata": {},
   "source": [
    "## Seasonal trends"
   ]
  },
  {
   "cell_type": "code",
   "execution_count": null,
   "metadata": {},
   "outputs": [],
   "source": [
    "# Fluktuationen übers Jahr über die Altersgruppen:\n",
    "Fig, Axes = plt.subplots(1,2, figsize=(9,5))\n",
    "Fig.tight_layout()\n",
    "StateIndex = 0\n",
    "#Weeks = range(53)\n",
    "Weeks = range(1,52)\n",
    "SumPerWeekOsna = np.zeros((4, 53))\n",
    "AgeGroups = ['0-64', '65-74', '75-84', '85+']\n",
    "\n",
    "for Num, AgeGroup in enumerate(AgeGroups):\n",
    "    FilteredCases = df[df['Altersgruppe']==AgeGroup] # only contains Cases for State and AgeGroup\n",
    "    \n",
    "    for i in range(1,54):\n",
    "        #print(FilteredCases[FilteredCases['Sterbewoche']==i].shape[0])\n",
    "        SumPerWeekOsna[Num, i-1] = FilteredCases[FilteredCases['Sterbewoche']==i].shape[0]\n",
    "        \n",
    "    Axes[1].plot(Weeks, SumPerWeekOsna[Num, 1:-1], Colors[Num])\n",
    "    Axes[1].set_title('Traueranzeigen Osnabrück')\n",
    "    Axes[0].plot(Weeks, MeanPerWeek[8, Num, 1:-1], Colors[Num])\n",
    "    Axes[0].set_title('Mittelwert Niedersachsen')\n",
    "    Axes[1].set_xlabel('Kalenderwoche')\n",
    "    Axes[0].set_xlabel('Kalenderwoche')\n",
    "\n",
    "    lec = plt.legend(['0-64', '65-74', '75-84', '85+'], loc=1)\n",
    "    for line in lec.get_lines():\n",
    "        line.set_linewidth(3.0)\n",
    "   \n",
    "plt.show()\n",
    "Fig.savefig('SeasonalTrends.png')"
   ]
  },
  {
   "cell_type": "markdown",
   "metadata": {
    "collapsed": true
   },
   "source": [
    "## Regional coverage "
   ]
  },
  {
   "cell_type": "code",
   "execution_count": null,
   "metadata": {},
   "outputs": [],
   "source": [
    "# Bremens gesamtzahlen für 2015\n",
    "Bremen = MortalityData[MortalityData['Bundesland']=='Niedersachsen']\n",
    "Bremen2015 = Bremen[Bremen.Sterbejahr==2015]\n",
    "#print(set(Bremen2015.Sterbewoche))\n",
    "SumPerWeekBremen = np.zeros((4,53))\n",
    "for Num, AgeGroup in enumerate(AgeGroups):\n",
    "    Filtered = Bremen2015[Bremen2015.Altersgruppe==AgeGroup]\n",
    "    for i in range(1,54):\n",
    "        SumPerWeekBremen[Num, i-1] = Filtered[Filtered.Sterbewoche==i]['Todesfälle'].sum()\n",
    "\n",
    "Year2015 = df.loc[df.Sterbejahr==2015]\n",
    "Age0 = len(Year2015.loc[Year2015.Altersgruppe == '0-64'])\n",
    "Age1 = len(Year2015.loc[Year2015.Altersgruppe == '65-74'])\n",
    "Age2 = len(Year2015.loc[Year2015.Altersgruppe == '75-84'])\n",
    "Age3 = len(Year2015.loc[Year2015.Altersgruppe == '85+'])\n",
    "\n",
    "#Age0 = len(df.loc[df.Altersgruppe == '0-64'])\n",
    "#Age1 = len(df.loc[df.Altersgruppe == '65-74'])\n",
    "#Age2 = len(df.loc[df.Altersgruppe == '75-84'])\n",
    "#Age3 = len(df.loc[df.Altersgruppe == '85+'])\n",
    "\n",
    "AllBremen =  Age0 + Age1 + Age2 + Age3\n",
    "print('Sum Bremen Orbituary Notes 2015', AllBremen)\n",
    "AllBremen = 1\n",
    "\n",
    "\n",
    "Fig, Ax = plt.subplots(1,3, figsize=(9,5))\n",
    "#Fig.tight_layout()\n",
    "plt.suptitle(\"Osnabrück 2015\", fontsize=15)\n",
    "plt.title(\"Distribution of Age\")\n",
    "Ax[1].bar([0,1,2,3], [Age0/AllBremen, Age1/AllBremen, Age2/AllBremen, Age3/AllBremen])\n",
    "Ax[1].set_title(\"Orbituary Notes\")\n",
    "\n",
    "#Ax[1].set_xticklabels( ['','0-64', '65-74', '75-84', '85+'])\n",
    "BremenSum = np.sum(SumPerWeekBremen, axis=1) # Achtung: Niedersachsen index richtig?\n",
    "print('Sum All Bremen 2015:', sum(BremenSum)) # Genau die Zahl, die ich auch Online gefunden habe!\n",
    "\n",
    "Ax[0].bar([0,1,2,3], BremenSum)\n",
    "Ax[0].set_title(\"Official Statistic\")\n",
    "Ax[0].set_xticklabels( ['0-64', '65-74', '75-84', '85+'])\n",
    "\n",
    "Ax[2].bar([0,1,2,3], [Age0, Age1, Age2, Age3]/BremenSum)\n",
    "Ax[2].set_title(\"Fraction covered\")\n",
    "Ax[2].set_xticklabels( ['0-64', '65-74', '75-84', '85+'])\n",
    "#plt.ylabel(\"Tote pro Jahr\")\n",
    "\n",
    "plt.show()\n",
    "Fig.savefig('RegionalCoverage.png')"
   ]
  },
  {
   "cell_type": "code",
   "execution_count": null,
   "metadata": {
    "collapsed": true
   },
   "outputs": [],
   "source": [
    "## sanity check: portion of region in state\n",
    "OsnaInhabitants = 273000\n",
    "OsnaLandInhabitants = 520000\n",
    "NiedersachsenInhabitants = 7945685\n",
    "OsnaLandInhabitants / NiedersachsenInhabitants"
   ]
  },
  {
   "cell_type": "code",
   "execution_count": null,
   "metadata": {},
   "outputs": [],
   "source": [
    "import re\n",
    "df_names = pd.read_csv('/home/cath/Documents/get_rip/src/mortality/Noz_death_data_names.csv', delimiter = ',')\n",
    "df_names['Merged'] = df_names['BD'].astype(str) + df_names['DD'].astype(str)\n",
    "\n",
    "print(\"Namen orig\" , len(set(df_names['Merged'])))\n",
    "df_names.shape\n",
    "df_names\n",
    "\n",
    "# only names: 42089\n",
    "# name + birthdate + deathdate: 44255\n",
    "# birthdate + deathdate: 43206"
   ]
  }
 ],
 "metadata": {
  "anaconda-cloud": {},
  "kernelspec": {
   "display_name": "Python 3",
   "language": "python",
   "name": "python3"
  },
  "language_info": {
   "codemirror_mode": {
    "name": "ipython",
    "version": 3
   },
   "file_extension": ".py",
   "mimetype": "text/x-python",
   "name": "python",
   "nbconvert_exporter": "python",
   "pygments_lexer": "ipython3",
   "version": "3.6.3"
  }
 },
 "nbformat": 4,
 "nbformat_minor": 1
}
